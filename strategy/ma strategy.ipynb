{
 "cells": [
  {
   "cell_type": "code",
   "execution_count": 1,
   "metadata": {},
   "outputs": [],
   "source": [
    "import pandas as pd\n",
    "import pandas_ta as ta"
   ]
  },
  {
   "cell_type": "code",
   "execution_count": 2,
   "metadata": {},
   "outputs": [
    {
     "data": {
      "text/html": [
       "<div>\n",
       "<style scoped>\n",
       "    .dataframe tbody tr th:only-of-type {\n",
       "        vertical-align: middle;\n",
       "    }\n",
       "\n",
       "    .dataframe tbody tr th {\n",
       "        vertical-align: top;\n",
       "    }\n",
       "\n",
       "    .dataframe thead th {\n",
       "        text-align: right;\n",
       "    }\n",
       "</style>\n",
       "<table border=\"1\" class=\"dataframe\">\n",
       "  <thead>\n",
       "    <tr style=\"text-align: right;\">\n",
       "      <th></th>\n",
       "      <th>Open</th>\n",
       "      <th>High</th>\n",
       "      <th>Low</th>\n",
       "      <th>Close</th>\n",
       "      <th>Volume</th>\n",
       "    </tr>\n",
       "    <tr>\n",
       "      <th>timestamp</th>\n",
       "      <th></th>\n",
       "      <th></th>\n",
       "      <th></th>\n",
       "      <th></th>\n",
       "      <th></th>\n",
       "    </tr>\n",
       "  </thead>\n",
       "  <tbody>\n",
       "    <tr>\n",
       "      <th>2019-09-16 00:00:00</th>\n",
       "      <td>10302.00</td>\n",
       "      <td>10304.58</td>\n",
       "      <td>10301.84</td>\n",
       "      <td>10304.58</td>\n",
       "      <td>6.352</td>\n",
       "    </tr>\n",
       "    <tr>\n",
       "      <th>2019-09-16 00:01:00</th>\n",
       "      <td>10304.58</td>\n",
       "      <td>10306.22</td>\n",
       "      <td>10304.58</td>\n",
       "      <td>10305.94</td>\n",
       "      <td>16.079</td>\n",
       "    </tr>\n",
       "    <tr>\n",
       "      <th>2019-09-16 00:02:00</th>\n",
       "      <td>10303.32</td>\n",
       "      <td>10303.63</td>\n",
       "      <td>10300.36</td>\n",
       "      <td>10301.55</td>\n",
       "      <td>13.122</td>\n",
       "    </tr>\n",
       "    <tr>\n",
       "      <th>2019-09-16 00:03:00</th>\n",
       "      <td>10303.29</td>\n",
       "      <td>10303.29</td>\n",
       "      <td>10300.36</td>\n",
       "      <td>10302.50</td>\n",
       "      <td>14.395</td>\n",
       "    </tr>\n",
       "    <tr>\n",
       "      <th>2019-09-16 00:04:00</th>\n",
       "      <td>10302.42</td>\n",
       "      <td>10304.04</td>\n",
       "      <td>10301.19</td>\n",
       "      <td>10304.04</td>\n",
       "      <td>12.803</td>\n",
       "    </tr>\n",
       "  </tbody>\n",
       "</table>\n",
       "</div>"
      ],
      "text/plain": [
       "                         Open      High       Low     Close  Volume\n",
       "timestamp                                                          \n",
       "2019-09-16 00:00:00  10302.00  10304.58  10301.84  10304.58   6.352\n",
       "2019-09-16 00:01:00  10304.58  10306.22  10304.58  10305.94  16.079\n",
       "2019-09-16 00:02:00  10303.32  10303.63  10300.36  10301.55  13.122\n",
       "2019-09-16 00:03:00  10303.29  10303.29  10300.36  10302.50  14.395\n",
       "2019-09-16 00:04:00  10302.42  10304.04  10301.19  10304.04  12.803"
      ]
     },
     "execution_count": 2,
     "metadata": {},
     "output_type": "execute_result"
    }
   ],
   "source": [
    "df = pd.read_csv('../BTCUSDT_1min.csv')\n",
    "df['timestamp'] = pd.to_datetime(df['timestamp'])\n",
    "df.set_index('timestamp', inplace=True)\n",
    "df.head()"
   ]
  },
  {
   "cell_type": "code",
   "execution_count": 3,
   "metadata": {},
   "outputs": [],
   "source": [
    "df = df.resample('4h').agg({ 'Open': 'first','High': 'max', 'Low': 'min', 'Close': 'last', 'Volume': 'sum' })"
   ]
  },
  {
   "cell_type": "code",
   "execution_count": 4,
   "metadata": {},
   "outputs": [
    {
     "data": {
      "text/html": [
       "<div>\n",
       "<style scoped>\n",
       "    .dataframe tbody tr th:only-of-type {\n",
       "        vertical-align: middle;\n",
       "    }\n",
       "\n",
       "    .dataframe tbody tr th {\n",
       "        vertical-align: top;\n",
       "    }\n",
       "\n",
       "    .dataframe thead th {\n",
       "        text-align: right;\n",
       "    }\n",
       "</style>\n",
       "<table border=\"1\" class=\"dataframe\">\n",
       "  <thead>\n",
       "    <tr style=\"text-align: right;\">\n",
       "      <th></th>\n",
       "      <th>Open</th>\n",
       "      <th>High</th>\n",
       "      <th>Low</th>\n",
       "      <th>Close</th>\n",
       "      <th>Volume</th>\n",
       "    </tr>\n",
       "    <tr>\n",
       "      <th>timestamp</th>\n",
       "      <th></th>\n",
       "      <th></th>\n",
       "      <th></th>\n",
       "      <th></th>\n",
       "      <th></th>\n",
       "    </tr>\n",
       "  </thead>\n",
       "  <tbody>\n",
       "    <tr>\n",
       "      <th>2019-09-16 00:00:00</th>\n",
       "      <td>10302.00</td>\n",
       "      <td>10353.81</td>\n",
       "      <td>10300.00</td>\n",
       "      <td>10300.07</td>\n",
       "      <td>3490.788</td>\n",
       "    </tr>\n",
       "    <tr>\n",
       "      <th>2019-09-16 04:00:00</th>\n",
       "      <td>10300.24</td>\n",
       "      <td>10325.00</td>\n",
       "      <td>10279.69</td>\n",
       "      <td>10302.30</td>\n",
       "      <td>3131.662</td>\n",
       "    </tr>\n",
       "    <tr>\n",
       "      <th>2019-09-16 08:00:00</th>\n",
       "      <td>10301.95</td>\n",
       "      <td>10316.71</td>\n",
       "      <td>10275.74</td>\n",
       "      <td>10282.74</td>\n",
       "      <td>3112.623</td>\n",
       "    </tr>\n",
       "    <tr>\n",
       "      <th>2019-09-16 12:00:00</th>\n",
       "      <td>10282.03</td>\n",
       "      <td>10282.03</td>\n",
       "      <td>10115.00</td>\n",
       "      <td>10120.07</td>\n",
       "      <td>3548.878</td>\n",
       "    </tr>\n",
       "    <tr>\n",
       "      <th>2019-09-16 16:00:00</th>\n",
       "      <td>10117.40</td>\n",
       "      <td>10160.39</td>\n",
       "      <td>10080.70</td>\n",
       "      <td>10124.17</td>\n",
       "      <td>3419.057</td>\n",
       "    </tr>\n",
       "  </tbody>\n",
       "</table>\n",
       "</div>"
      ],
      "text/plain": [
       "                         Open      High       Low     Close    Volume\n",
       "timestamp                                                            \n",
       "2019-09-16 00:00:00  10302.00  10353.81  10300.00  10300.07  3490.788\n",
       "2019-09-16 04:00:00  10300.24  10325.00  10279.69  10302.30  3131.662\n",
       "2019-09-16 08:00:00  10301.95  10316.71  10275.74  10282.74  3112.623\n",
       "2019-09-16 12:00:00  10282.03  10282.03  10115.00  10120.07  3548.878\n",
       "2019-09-16 16:00:00  10117.40  10160.39  10080.70  10124.17  3419.057"
      ]
     },
     "execution_count": 4,
     "metadata": {},
     "output_type": "execute_result"
    }
   ],
   "source": [
    "df.head()"
   ]
  },
  {
   "cell_type": "code",
   "execution_count": 5,
   "metadata": {},
   "outputs": [],
   "source": [
    "df['ma20'] = ta.sma(df['Close'], length=20)\n",
    "df['ma30'] = ta.sma(df['Close'], length=30)\n",
    "df['ma60'] = ta.sma(df['Close'], length=60)\n",
    "df['ma120'] = ta.sma(df['Close'], length=120)\n",
    "df['ma200'] = ta.sma(df['Close'], length=200)\n"
   ]
  },
  {
   "cell_type": "code",
   "execution_count": 6,
   "metadata": {},
   "outputs": [],
   "source": [
    "import pandas as pd\n",
    "import numpy as np\n",
    "# Initialize first position\n",
    "df['position'] = 0\n",
    "\n",
    "# Iterate through rows using iterrows\n",
    "for idx, row in df.iterrows():\n",
    "    if idx == df.index[0]:  # Skip first timestamp\n",
    "        continue\n",
    "        \n",
    "    prev_idx = df.index[df.index.get_loc(idx) - 1]  # Get previous timestamp\n",
    "    \n",
    "    # Copy previous position as default\n",
    "    df.at[idx, 'position'] = df.at[prev_idx, 'position']\n",
    "    \n",
    "    # Long entry\n",
    "    if (row['ma20'] > row['ma200']) and (df.at[prev_idx, 'position'] == 0):\n",
    "        df.at[idx, 'position'] = 1\n",
    "    \n",
    "    # Long exit\n",
    "    elif (row['Close'] < row['ma200']) and (df.at[prev_idx, 'position'] == 1):\n",
    "        df.at[idx, 'position'] = 0\n",
    "    \n",
    "    # Short entry\n",
    "    elif (row['ma20'] < row['ma30']) and (row['ma30'] < row['ma60']) and \\\n",
    "         (row['ma60'] < row['ma120']) and (row['ma120'] < row['ma200']) and \\\n",
    "         (df.at[prev_idx, 'position'] == 0):\n",
    "        df.at[idx, 'position'] = -1\n",
    "    \n",
    "    # Short exit\n",
    "    elif (row['Close'] > row['ma60']) and (df.at[prev_idx, 'position'] == -1):\n",
    "        df.at[idx, 'position'] = 0\n",
    "\n"
   ]
  },
  {
   "cell_type": "code",
   "execution_count": 7,
   "metadata": {},
   "outputs": [
    {
     "data": {
      "text/plain": [
       "position\n",
       " 1    5461\n",
       " 0    3738\n",
       "-1    1673\n",
       "Name: count, dtype: int64"
      ]
     },
     "execution_count": 7,
     "metadata": {},
     "output_type": "execute_result"
    }
   ],
   "source": [
    "df['position'].value_counts()"
   ]
  },
  {
   "cell_type": "code",
   "execution_count": 8,
   "metadata": {},
   "outputs": [],
   "source": [
    "df['returns'] = df['Close'].pct_change()\n",
    "df['strategy_returns'] = df['position'].shift(1) * df['returns']\n"
   ]
  },
  {
   "cell_type": "code",
   "execution_count": 9,
   "metadata": {},
   "outputs": [],
   "source": [
    "df['cumulative_returns'] = (1 + df['returns']).cumprod() - 1\n",
    "df['cumulative_strategy_returns'] = (1 + df['strategy_returns']).cumprod() - 1"
   ]
  },
  {
   "cell_type": "code",
   "execution_count": 10,
   "metadata": {},
   "outputs": [
    {
     "name": "stdout",
     "output_type": "stream",
     "text": [
      "Total Return: 319.16%\n",
      "Annualized Return: 33.49%\n",
      "Sharpe Ratio: 1.79\n"
     ]
    }
   ],
   "source": [
    "# Calculate total return\n",
    "total_return = df['cumulative_strategy_returns'].iloc[-1]\n",
    "\n",
    "# Calculate annualized return\n",
    "# Assuming df index is a datetime index\n",
    "days = (df.index[-1] - df.index[0]).days\n",
    "annualized_return = (1 + total_return) ** (365 / days) - 1\n",
    "\n",
    "# Calculate Sharpe ratio(calculation may not be correct)\n",
    "sharpe_ratio = df['strategy_returns'].mean() / df['strategy_returns'].std() * np.sqrt(df['strategy_returns'].count())\n",
    "# Print results\n",
    "print(f\"Total Return: {total_return:.2%}\")\n",
    "print(f\"Annualized Return: {annualized_return:.2%}\")\n",
    "print(f\"Sharpe Ratio: {sharpe_ratio:.2f}\")\n",
    "\n",
    "# O"
   ]
  },
  {
   "cell_type": "code",
   "execution_count": 11,
   "metadata": {},
   "outputs": [
    {
     "data": {
      "image/png": "[encoded data removed]",
      "text/plain": [
       "<Figure size 1200x600 with 1 Axes>"
      ]
     },
     "metadata": {},
     "output_type": "display_data"
    }
   ],
   "source": [
    "import matplotlib.pyplot as plt\n",
    "\n",
    "plt.figure(figsize=(12, 6))\n",
    "plt.plot(df.index, df['cumulative_returns'], label='Buy and Hold')\n",
    "plt.plot(df.index, df['cumulative_strategy_returns'], label='Strategy')\n",
    "plt.title('Cumulative Returns: Strategy vs Buy and Hold')\n",
    "plt.xlabel('Date')\n",
    "plt.ylabel('Cumulative Returns')\n",
    "plt.legend()\n",
    "plt.show()"
   ]
  },
  {
   "cell_type": "code",
   "execution_count": 12,
   "metadata": {},
   "outputs": [],
   "source": [
    "def load_funding_rate():\n",
    "    df_funding_rate = pd.read_csv('..\\BTCUSDT_funding_rate.csv')\n",
    "    df_funding_rate['timestamp'] = pd.to_datetime(df_funding_rate['timestamp'], unit='ms')\n",
    "    df_funding_rate['timestamp'] = df_funding_rate['timestamp'].dt.round('H')\n",
    "    df_funding_rate.set_index('timestamp', inplace=True)\n",
    "    return df_funding_rate\n",
    "\n",
    "df_funding_rate = load_funding_rate()"
   ]
  },
  {
   "cell_type": "code",
   "execution_count": 13,
   "metadata": {},
   "outputs": [],
   "source": [
    "df = df[['Open','Close','position']]\n",
    "df['position'] = df['position'].astype(int)\n",
    "df = df.join(df_funding_rate, how='left')\n",
    "df['position_change'] = df['position'].diff()"
   ]
  },
  {
   "cell_type": "code",
   "execution_count": 14,
   "metadata": {},
   "outputs": [],
   "source": [
    "taker_fee = 0.0500 / 100\n",
    "maker_fee = 0.0200 / 100\n",
    "\n",
    "def calculate_costs(df,taker_fee, maker_fee):\n",
    "    df['position_change'] = df['position'].diff()\n",
    "    \n",
    "    df.loc[df['position_change'] == 1, 'trade_cost'] = df['Close'] * taker_fee\n",
    "    df.loc[df['position_change'] == -1, 'trade_cost'] = df['Close'] * maker_fee\n",
    "    \n",
    "    df.loc[(df['position'] > 0) & (df['fundingRate'].notnull()), 'funding_cost'] = df['Open'] * df['fundingRate'] * abs(df['position'])\n",
    "    df.loc[(df['position'] < 0) & (df['fundingRate'].notnull()), 'funding_cost'] = -(df['Open'] * df['fundingRate']) * abs(df['position'])\n",
    "    \n",
    "    df['trade_cost'] = df['trade_cost'].fillna(0)\n",
    "    df['funding_cost'] = df['funding_cost'].fillna(0)\n",
    "    df['total_cost'] = df['trade_cost'] + df['funding_cost']\n",
    "    df['total_cost'] = df['total_cost'].fillna(0)\n",
    "    return df\n",
    "\n",
    "df = calculate_costs(df, taker_fee, maker_fee)"
   ]
  },
  {
   "cell_type": "code",
   "execution_count": 15,
   "metadata": {},
   "outputs": [
    {
     "data": {
      "text/html": [
       "<div>\n",
       "<style scoped>\n",
       "    .dataframe tbody tr th:only-of-type {\n",
       "        vertical-align: middle;\n",
       "    }\n",
       "\n",
       "    .dataframe tbody tr th {\n",
       "        vertical-align: top;\n",
       "    }\n",
       "\n",
       "    .dataframe thead th {\n",
       "        text-align: right;\n",
       "    }\n",
       "</style>\n",
       "<table border=\"1\" class=\"dataframe\">\n",
       "  <thead>\n",
       "    <tr style=\"text-align: right;\">\n",
       "      <th></th>\n",
       "      <th>Open</th>\n",
       "      <th>Close</th>\n",
       "      <th>position</th>\n",
       "      <th>fundingRate</th>\n",
       "      <th>position_change</th>\n",
       "      <th>trade_cost</th>\n",
       "      <th>funding_cost</th>\n",
       "      <th>total_cost</th>\n",
       "    </tr>\n",
       "    <tr>\n",
       "      <th>timestamp</th>\n",
       "      <th></th>\n",
       "      <th></th>\n",
       "      <th></th>\n",
       "      <th></th>\n",
       "      <th></th>\n",
       "      <th></th>\n",
       "      <th></th>\n",
       "      <th></th>\n",
       "    </tr>\n",
       "  </thead>\n",
       "  <tbody>\n",
       "    <tr>\n",
       "      <th>2024-08-31 04:00:00</th>\n",
       "      <td>59200.0</td>\n",
       "      <td>59060.8</td>\n",
       "      <td>0</td>\n",
       "      <td>NaN</td>\n",
       "      <td>0.0</td>\n",
       "      <td>0.0</td>\n",
       "      <td>0.0</td>\n",
       "      <td>0.0</td>\n",
       "    </tr>\n",
       "    <tr>\n",
       "      <th>2024-08-31 08:00:00</th>\n",
       "      <td>59060.8</td>\n",
       "      <td>59093.1</td>\n",
       "      <td>0</td>\n",
       "      <td>0.000036</td>\n",
       "      <td>0.0</td>\n",
       "      <td>0.0</td>\n",
       "      <td>0.0</td>\n",
       "      <td>0.0</td>\n",
       "    </tr>\n",
       "    <tr>\n",
       "      <th>2024-08-31 12:00:00</th>\n",
       "      <td>59093.1</td>\n",
       "      <td>58983.7</td>\n",
       "      <td>0</td>\n",
       "      <td>NaN</td>\n",
       "      <td>0.0</td>\n",
       "      <td>0.0</td>\n",
       "      <td>0.0</td>\n",
       "      <td>0.0</td>\n",
       "    </tr>\n",
       "    <tr>\n",
       "      <th>2024-08-31 16:00:00</th>\n",
       "      <td>58983.8</td>\n",
       "      <td>58834.2</td>\n",
       "      <td>0</td>\n",
       "      <td>0.000038</td>\n",
       "      <td>0.0</td>\n",
       "      <td>0.0</td>\n",
       "      <td>0.0</td>\n",
       "      <td>0.0</td>\n",
       "    </tr>\n",
       "    <tr>\n",
       "      <th>2024-08-31 20:00:00</th>\n",
       "      <td>58834.3</td>\n",
       "      <td>58941.9</td>\n",
       "      <td>0</td>\n",
       "      <td>NaN</td>\n",
       "      <td>0.0</td>\n",
       "      <td>0.0</td>\n",
       "      <td>0.0</td>\n",
       "      <td>0.0</td>\n",
       "    </tr>\n",
       "  </tbody>\n",
       "</table>\n",
       "</div>"
      ],
      "text/plain": [
       "                        Open    Close  position  fundingRate  position_change  \\\n",
       "timestamp                                                                       \n",
       "2024-08-31 04:00:00  59200.0  59060.8         0          NaN              0.0   \n",
       "2024-08-31 08:00:00  59060.8  59093.1         0     0.000036              0.0   \n",
       "2024-08-31 12:00:00  59093.1  58983.7         0          NaN              0.0   \n",
       "2024-08-31 16:00:00  58983.8  58834.2         0     0.000038              0.0   \n",
       "2024-08-31 20:00:00  58834.3  58941.9         0          NaN              0.0   \n",
       "\n",
       "                     trade_cost  funding_cost  total_cost  \n",
       "timestamp                                                  \n",
       "2024-08-31 04:00:00         0.0           0.0         0.0  \n",
       "2024-08-31 08:00:00         0.0           0.0         0.0  \n",
       "2024-08-31 12:00:00         0.0           0.0         0.0  \n",
       "2024-08-31 16:00:00         0.0           0.0         0.0  \n",
       "2024-08-31 20:00:00         0.0           0.0         0.0  "
      ]
     },
     "execution_count": 15,
     "metadata": {},
     "output_type": "execute_result"
    }
   ],
   "source": [
    "df.tail()"
   ]
  },
  {
   "cell_type": "code",
   "execution_count": 16,
   "metadata": {},
   "outputs": [
    {
     "data": {
      "text/plain": [
       "28843.7373716414"
      ]
     },
     "execution_count": 16,
     "metadata": {},
     "output_type": "execute_result"
    }
   ],
   "source": [
    "df['total_cost'].sum()"
   ]
  },
  {
   "cell_type": "code",
   "execution_count": 17,
   "metadata": {},
   "outputs": [
    {
     "data": {
      "text/plain": [
       "8972.924158"
      ]
     },
     "execution_count": 17,
     "metadata": {},
     "output_type": "execute_result"
    }
   ],
   "source": [
    "df['trade_cost'].sum()"
   ]
  },
  {
   "cell_type": "code",
   "execution_count": 18,
   "metadata": {},
   "outputs": [
    {
     "data": {
      "text/plain": [
       "19870.8132136414"
      ]
     },
     "execution_count": 18,
     "metadata": {},
     "output_type": "execute_result"
    }
   ],
   "source": [
    "df['funding_cost'].sum()"
   ]
  },
  {
   "cell_type": "code",
   "execution_count": 19,
   "metadata": {},
   "outputs": [
    {
     "data": {
      "text/plain": [
       "814"
      ]
     },
     "execution_count": 19,
     "metadata": {},
     "output_type": "execute_result"
    }
   ],
   "source": [
    "df[df['trade_cost'] != 0].shape[0]"
   ]
  },
  {
   "cell_type": "code",
   "execution_count": 20,
   "metadata": {},
   "outputs": [],
   "source": [
    "# Buy and hold funding cost\n",
    "df.loc[df['fundingRate'].notnull(), 'bnh_funding_cost'] = df['Open'] * df['fundingRate']"
   ]
  },
  {
   "cell_type": "code",
   "execution_count": 21,
   "metadata": {},
   "outputs": [
    {
     "data": {
      "text/plain": [
       "26819.0328436586"
      ]
     },
     "execution_count": 21,
     "metadata": {},
     "output_type": "execute_result"
    }
   ],
   "source": [
    "df['bnh_funding_cost'] = df['bnh_funding_cost'].fillna(0)\n",
    "df['bnh_funding_cost'].sum()"
   ]
  },
  {
   "cell_type": "code",
   "execution_count": null,
   "metadata": {},
   "outputs": [],
   "source": []
  }
 ],
 "metadata": {
  "kernelspec": {
   "display_name": "ftec4003",
   "language": "python",
   "name": "python3"
  },
  "language_info": {
   "codemirror_mode": {
    "name": "ipython",
    "version": 3
   },
   "file_extension": ".py",
   "mimetype": "text/x-python",
   "name": "python",
   "nbconvert_exporter": "python",
   "pygments_lexer": "ipython3",
   "version": "3.9.18"
  }
 },
 "nbformat": 4,
 "nbformat_minor": 2
}
