{
 "cells": [
  {
   "cell_type": "code",
   "execution_count": 1,
   "metadata": {},
   "outputs": [],
   "source": [
    "import ccxt\n",
    "import datetime\n",
    "import time"
   ]
  },
  {
   "cell_type": "code",
   "execution_count": 15,
   "metadata": {},
   "outputs": [],
   "source": [
    "exchange = ccxt.binance()\n",
    "\n",
    "# Set the start and end date for the data\n",
    "start_date = datetime.datetime(2017, 8, 17,12,0,0).astimezone(datetime.timezone.utc)\n",
    "end_date = datetime.datetime(2024, 9, 1,8,0,0).astimezone(datetime.timezone.utc)\n",
    "\n",
    "period = '1h'\n",
    "symbol = 'BTC/USDT:USDT'\n",
    "\n",
    "current_ts = int(start_date.timestamp()* 1000)\n",
    "end_ts = int(end_date.timestamp()* 1000)\n",
    "\n",
    "\n",
    "all_data = []\n",
    "\n",
    "while current_ts < end_ts:\n",
    "    \n",
    "    period_second = {\n",
    "        '1m': 60,\n",
    "        '3m': 180,\n",
    "        '5m': 300,\n",
    "        '15m': 900,\n",
    "        '30m': 1800,\n",
    "        '1h': 3600,\n",
    "        '2h': 7200,\n",
    "        '4h': 14400,\n",
    "        '6h': 21600,\n",
    "        '8h': 28800,\n",
    "        '12h': 43200,\n",
    "        '1d': 86400,\n",
    "        '3d': 259200,\n",
    "        '1w': 604800,\n",
    "        '1M': 2592000\n",
    "    }\n",
    "    \n",
    "    data = exchange.fetch_ohlcv (symbol,period, since=current_ts) \n",
    "    current_ts = int(data[-1][0] + period_second[period] * 1000)\n",
    "    \n",
    "    for i in data:\n",
    "        all_data.append(i)\n",
    "    time.sleep(exchange.rateLimit / 1000) # time.sleep wants seconds    \n"
   ]
  },
  {
   "cell_type": "code",
   "execution_count": 16,
   "metadata": {},
   "outputs": [],
   "source": [
    "import pandas as pd\n",
    "df = pd.DataFrame(all_data, columns=['timestamp', 'Open', 'High', 'Low', 'Close', 'Volume'])"
   ]
  },
  {
   "cell_type": "code",
   "execution_count": 17,
   "metadata": {},
   "outputs": [],
   "source": [
    "df.to_csv('BTCUSDT_1h.csv', index=False)"
   ]
  },
  {
   "cell_type": "code",
   "execution_count": 15,
   "metadata": {},
   "outputs": [],
   "source": [
    "# get funding rate history\n",
    "\n",
    "all_data = []\n",
    "\n",
    "start_ts = 1568102400000\n",
    "\n",
    "while start_ts < end_ts:\n",
    "    data = exchange.fetchFundingRateHistory(symbol='ETH/USDT:USDT',since=start_ts)\n",
    "    start_ts = int(data[-1]['timestamp'])\n",
    "    for i in data:\n",
    "        all_data.append(i)\n",
    "    time.sleep(exchange.rateLimit / 1000)\n",
    "    \n"
   ]
  },
  {
   "cell_type": "code",
   "execution_count": 16,
   "metadata": {},
   "outputs": [],
   "source": [
    "df_funding_rate = pd.DataFrame(all_data,columns = ['timestamp','fundingRate'])"
   ]
  },
  {
   "cell_type": "code",
   "execution_count": 17,
   "metadata": {},
   "outputs": [
    {
     "data": {
      "text/html": [
       "<div>\n",
       "<style scoped>\n",
       "    .dataframe tbody tr th:only-of-type {\n",
       "        vertical-align: middle;\n",
       "    }\n",
       "\n",
       "    .dataframe tbody tr th {\n",
       "        vertical-align: top;\n",
       "    }\n",
       "\n",
       "    .dataframe thead th {\n",
       "        text-align: right;\n",
       "    }\n",
       "</style>\n",
       "<table border=\"1\" class=\"dataframe\">\n",
       "  <thead>\n",
       "    <tr style=\"text-align: right;\">\n",
       "      <th></th>\n",
       "      <th>timestamp</th>\n",
       "      <th>fundingRate</th>\n",
       "    </tr>\n",
       "  </thead>\n",
       "  <tbody>\n",
       "    <tr>\n",
       "      <th>0</th>\n",
       "      <td>1574841600000</td>\n",
       "      <td>0.000100</td>\n",
       "    </tr>\n",
       "    <tr>\n",
       "      <th>1</th>\n",
       "      <td>1574870400000</td>\n",
       "      <td>0.000100</td>\n",
       "    </tr>\n",
       "    <tr>\n",
       "      <th>2</th>\n",
       "      <td>1574899200000</td>\n",
       "      <td>0.000100</td>\n",
       "    </tr>\n",
       "    <tr>\n",
       "      <th>3</th>\n",
       "      <td>1574928000000</td>\n",
       "      <td>0.000014</td>\n",
       "    </tr>\n",
       "    <tr>\n",
       "      <th>4</th>\n",
       "      <td>1574956800000</td>\n",
       "      <td>-0.000106</td>\n",
       "    </tr>\n",
       "    <tr>\n",
       "      <th>...</th>\n",
       "      <td>...</td>\n",
       "      <td>...</td>\n",
       "    </tr>\n",
       "    <tr>\n",
       "      <th>5295</th>\n",
       "      <td>1725840000000</td>\n",
       "      <td>0.000008</td>\n",
       "    </tr>\n",
       "    <tr>\n",
       "      <th>5296</th>\n",
       "      <td>1725868800000</td>\n",
       "      <td>0.000031</td>\n",
       "    </tr>\n",
       "    <tr>\n",
       "      <th>5297</th>\n",
       "      <td>1725897600001</td>\n",
       "      <td>-0.000012</td>\n",
       "    </tr>\n",
       "    <tr>\n",
       "      <th>5298</th>\n",
       "      <td>1725926400000</td>\n",
       "      <td>0.000011</td>\n",
       "    </tr>\n",
       "    <tr>\n",
       "      <th>5299</th>\n",
       "      <td>1725955200000</td>\n",
       "      <td>-0.000035</td>\n",
       "    </tr>\n",
       "  </tbody>\n",
       "</table>\n",
       "<p>5300 rows × 2 columns</p>\n",
       "</div>"
      ],
      "text/plain": [
       "          timestamp  fundingRate\n",
       "0     1574841600000     0.000100\n",
       "1     1574870400000     0.000100\n",
       "2     1574899200000     0.000100\n",
       "3     1574928000000     0.000014\n",
       "4     1574956800000    -0.000106\n",
       "...             ...          ...\n",
       "5295  1725840000000     0.000008\n",
       "5296  1725868800000     0.000031\n",
       "5297  1725897600001    -0.000012\n",
       "5298  1725926400000     0.000011\n",
       "5299  1725955200000    -0.000035\n",
       "\n",
       "[5300 rows x 2 columns]"
      ]
     },
     "execution_count": 17,
     "metadata": {},
     "output_type": "execute_result"
    }
   ],
   "source": [
    "df_funding_rate"
   ]
  },
  {
   "cell_type": "code",
   "execution_count": 61,
   "metadata": {},
   "outputs": [],
   "source": [
    "# rolling , - the previous value\n",
    "df_funding_rate['time_diff'] = df_funding_rate['timestamp'].diff()"
   ]
  },
  {
   "cell_type": "code",
   "execution_count": 18,
   "metadata": {},
   "outputs": [],
   "source": [
    "df_funding_rate.drop_duplicates(subset= ['timestamp'],inplace=True)"
   ]
  },
  {
   "cell_type": "code",
   "execution_count": 19,
   "metadata": {},
   "outputs": [],
   "source": [
    "df_funding_rate['time_diff'] = df_funding_rate ['timestamp'].diff()"
   ]
  },
  {
   "cell_type": "code",
   "execution_count": 20,
   "metadata": {},
   "outputs": [
    {
     "data": {
      "text/plain": [
       "count    5.247000e+03\n",
       "mean     2.880000e+07\n",
       "std      6.895163e+00\n",
       "min      2.879996e+07\n",
       "25%      2.880000e+07\n",
       "50%      2.880000e+07\n",
       "75%      2.880000e+07\n",
       "max      2.880005e+07\n",
       "Name: time_diff, dtype: float64"
      ]
     },
     "execution_count": 20,
     "metadata": {},
     "output_type": "execute_result"
    }
   ],
   "source": [
    "df_funding_rate['time_diff'].describe()"
   ]
  },
  {
   "cell_type": "code",
   "execution_count": 21,
   "metadata": {},
   "outputs": [],
   "source": [
    "df_funding_rate[['timestamp','fundingRate']].to_csv('ETHUSDT_funding_rate.csv',index=False)"
   ]
  },
  {
   "cell_type": "code",
   "execution_count": null,
   "metadata": {},
   "outputs": [],
   "source": []
  }
 ],
 "metadata": {
  "kernelspec": {
   "display_name": "ftec4003",
   "language": "python",
   "name": "python3"
  },
  "language_info": {
   "codemirror_mode": {
    "name": "ipython",
    "version": 3
   },
   "file_extension": ".py",
   "mimetype": "text/x-python",
   "name": "python",
   "nbconvert_exporter": "python",
   "pygments_lexer": "ipython3",
   "version": "3.9.18"
  }
 },
 "nbformat": 4,
 "nbformat_minor": 2
}
